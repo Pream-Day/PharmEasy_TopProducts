{
 "cells": [
  {
   "cell_type": "code",
   "execution_count": 1,
   "id": "1c54375d-fe0c-4d69-aef8-a5edcb4588d2",
   "metadata": {
    "tags": []
   },
   "outputs": [],
   "source": [
    "#importing library\n",
    "\n",
    "import requests\n",
    "import json\n",
    "import pandas as pd"
   ]
  },
  {
   "cell_type": "code",
   "execution_count": 2,
   "id": "91dfdb97-d5b6-419c-855c-25d0a3622536",
   "metadata": {
    "tags": []
   },
   "outputs": [],
   "source": [
    "#Sending GET request\n",
    "\n",
    "url=\"https://pharmeasy.in/api/otc/getCategoryProducts?categoryId=9297&page=1\""
   ]
  },
  {
   "cell_type": "code",
   "execution_count": 3,
   "id": "5f55188c-1eab-4fa2-a9f9-3afe28db5a98",
   "metadata": {
    "tags": []
   },
   "outputs": [],
   "source": [
    "response= requests.get(url)"
   ]
  },
  {
   "cell_type": "code",
   "execution_count": 4,
   "id": "37a692e6-2e76-4900-8419-ecf78def49ec",
   "metadata": {
    "tags": []
   },
   "outputs": [
    {
     "data": {
      "text/plain": [
       "200"
      ]
     },
     "execution_count": 4,
     "metadata": {},
     "output_type": "execute_result"
    }
   ],
   "source": [
    "response.status_code"
   ]
  },
  {
   "cell_type": "code",
   "execution_count": null,
   "id": "5f753274-ae53-49e1-b204-ce289ee08ba1",
   "metadata": {
    "tags": []
   },
   "outputs": [],
   "source": [
    "data_json=response.json()\n",
    "data_json\n"
   ]
  },
  {
   "cell_type": "code",
   "execution_count": 6,
   "id": "f3f99394-a13f-4590-8eaf-b115f631a5c9",
   "metadata": {
    "tags": []
   },
   "outputs": [
    {
     "data": {
      "text/plain": [
       "dict_keys(['status', 'data'])"
      ]
     },
     "execution_count": 6,
     "metadata": {},
     "output_type": "execute_result"
    }
   ],
   "source": [
    "#to see the dictionary keys\n",
    "data_json.keys()\n"
   ]
  },
  {
   "cell_type": "code",
   "execution_count": 7,
   "id": "d9f1e997-dad3-4b8a-b451-590091e27c36",
   "metadata": {
    "tags": []
   },
   "outputs": [
    {
     "data": {
      "text/plain": [
       "dict_keys(['products', 'meta', 'queryParams'])"
      ]
     },
     "execution_count": 7,
     "metadata": {},
     "output_type": "execute_result"
    }
   ],
   "source": [
    "#to accesss the keys\n",
    "\n",
    "data_json['data'].keys()"
   ]
  },
  {
   "cell_type": "markdown",
   "id": "90ba076c-ee30-435e-ae87-ee88b2b87a81",
   "metadata": {},
   "source": [
    "Checking the st Product name"
   ]
  },
  {
   "cell_type": "code",
   "execution_count": 8,
   "id": "829144ba-12c8-4b65-94e5-9cb6c75d20b3",
   "metadata": {
    "tags": []
   },
   "outputs": [
    {
     "data": {
      "text/plain": [
       "'Everherb Karela Jamun Juice - Helps Maintains Healthy Sugar Levels -Helps In Weight Management - 1l'"
      ]
     },
     "execution_count": 8,
     "metadata": {},
     "output_type": "execute_result"
    }
   ],
   "source": [
    "data_json['data']['products'][0]['name']"
   ]
  },
  {
   "cell_type": "markdown",
   "id": "113cef34-7329-4b85-bfcf-6829bc6c460a",
   "metadata": {},
   "source": [
    "For page 1"
   ]
  },
  {
   "cell_type": "code",
   "execution_count": 9,
   "id": "922baa6e-34ed-4fbc-a19f-4ca4caf6dc81",
   "metadata": {
    "tags": []
   },
   "outputs": [],
   "source": [
    "data=[]\n",
    "all_products= data_json['data']['products']\n",
    "\n",
    "for item,product in enumerate(all_products):\n",
    "    \n",
    "    try:\n",
    "        mrpDecimal = product['mrpDecimal']\n",
    "    except:\n",
    "        mrpDecimal = 'Not available'\n",
    "        \n",
    "    try:\n",
    "        salePriceDecimal = product['salePriceDecimal']\n",
    "    except:\n",
    "        salePriceDecimal = 'Not available'\n",
    "    \n",
    "    try:\n",
    "        discountDecimal = product['discountDecimal']\n",
    "        \n",
    "    except:\n",
    "        discountDecimal = 'Not available'\n",
    "        \n",
    "    try:\n",
    "        discountPercent = product['discountPercent']\n",
    "    except:\n",
    "        discountPercent = 'Not available'\n",
    "        \n",
    "        \n",
    "    \n",
    "    \n",
    "    \n",
    "    d={\n",
    "        \n",
    "        'name' : product['name'],\n",
    "        'manufacturer' : product['manufacturer'],\n",
    "        'mrpDecimal' : mrpDecimal,\n",
    "        'productTierAttributes' : product['productTierAttributes']['text'],\n",
    "        'salePriceDecimal' : salePriceDecimal,\n",
    "        'discountPercent' : discountPercent,\n",
    "       \n",
    "        \n",
    "    \n",
    "        \n",
    "    }\n",
    "    \n",
    "    \n",
    "    data.append(d)\n",
    "    "
   ]
  },
  {
   "cell_type": "code",
   "execution_count": 10,
   "id": "59da76f4-78e0-4d17-a196-4006070c94f6",
   "metadata": {
    "tags": []
   },
   "outputs": [
    {
     "data": {
      "text/plain": [
       "20"
      ]
     },
     "execution_count": 10,
     "metadata": {},
     "output_type": "execute_result"
    }
   ],
   "source": [
    "len(data)"
   ]
  },
  {
   "cell_type": "code",
   "execution_count": 11,
   "id": "8c03e83d-cc54-46ca-8999-ba4d6f7b9ec4",
   "metadata": {
    "tags": []
   },
   "outputs": [
    {
     "data": {
      "text/html": [
       "<div>\n",
       "<style scoped>\n",
       "    .dataframe tbody tr th:only-of-type {\n",
       "        vertical-align: middle;\n",
       "    }\n",
       "\n",
       "    .dataframe tbody tr th {\n",
       "        vertical-align: top;\n",
       "    }\n",
       "\n",
       "    .dataframe thead th {\n",
       "        text-align: right;\n",
       "    }\n",
       "</style>\n",
       "<table border=\"1\" class=\"dataframe\">\n",
       "  <thead>\n",
       "    <tr style=\"text-align: right;\">\n",
       "      <th></th>\n",
       "      <th>name</th>\n",
       "      <th>manufacturer</th>\n",
       "      <th>mrpDecimal</th>\n",
       "      <th>productTierAttributes</th>\n",
       "      <th>salePriceDecimal</th>\n",
       "      <th>discountPercent</th>\n",
       "    </tr>\n",
       "  </thead>\n",
       "  <tbody>\n",
       "    <tr>\n",
       "      <th>0</th>\n",
       "      <td>Everherb Karela Jamun Juice - Helps Maintains ...</td>\n",
       "      <td>EVERHERB</td>\n",
       "      <td>399.00</td>\n",
       "      <td>Guaranteed Delivery</td>\n",
       "      <td>199.50</td>\n",
       "      <td>50</td>\n",
       "    </tr>\n",
       "    <tr>\n",
       "      <th>1</th>\n",
       "      <td>Everherb Diabetic Care Juice-13 Potent Herbs -...</td>\n",
       "      <td>EVERHERB</td>\n",
       "      <td>599.00</td>\n",
       "      <td>Guaranteed Delivery</td>\n",
       "      <td>299.50</td>\n",
       "      <td>50</td>\n",
       "    </tr>\n",
       "    <tr>\n",
       "      <th>2</th>\n",
       "      <td>Everherb (By Pharmeasy) Aloe Vera Juice With P...</td>\n",
       "      <td>EVERHERB</td>\n",
       "      <td>399.00</td>\n",
       "      <td>Guaranteed Delivery</td>\n",
       "      <td>191.52</td>\n",
       "      <td>52</td>\n",
       "    </tr>\n",
       "    <tr>\n",
       "      <th>3</th>\n",
       "      <td>Pharmeasy Pill Box Organizer</td>\n",
       "      <td>PHARMEASY</td>\n",
       "      <td>499.00</td>\n",
       "      <td>Guaranteed Delivery</td>\n",
       "      <td>249.50</td>\n",
       "      <td>50</td>\n",
       "    </tr>\n",
       "    <tr>\n",
       "      <th>4</th>\n",
       "      <td>Liveasy Wellness Calcium Magnesium Vitamin D3 ...</td>\n",
       "      <td>LIVEASY</td>\n",
       "      <td>599.00</td>\n",
       "      <td>Guaranteed Delivery</td>\n",
       "      <td>449.25</td>\n",
       "      <td>25</td>\n",
       "    </tr>\n",
       "    <tr>\n",
       "      <th>5</th>\n",
       "      <td>Everherb (By Pharmeasy) Amla Juice-Rich In Vit...</td>\n",
       "      <td>EVERHERB</td>\n",
       "      <td>399.00</td>\n",
       "      <td>Guaranteed Delivery</td>\n",
       "      <td>195.51</td>\n",
       "      <td>51</td>\n",
       "    </tr>\n",
       "    <tr>\n",
       "      <th>6</th>\n",
       "      <td>Pharmeasy Calcium Magnesium Vitamin D3 &amp; Zinc ...</td>\n",
       "      <td>PHARMEASY</td>\n",
       "      <td>499.00</td>\n",
       "      <td>Guaranteed Delivery</td>\n",
       "      <td>399.20</td>\n",
       "      <td>20</td>\n",
       "    </tr>\n",
       "    <tr>\n",
       "      <th>7</th>\n",
       "      <td>Liveasy Wellness Multivitamin Multimineral - I...</td>\n",
       "      <td>LIVEASY</td>\n",
       "      <td>699.00</td>\n",
       "      <td>Guaranteed Delivery</td>\n",
       "      <td>384.45</td>\n",
       "      <td>45</td>\n",
       "    </tr>\n",
       "    <tr>\n",
       "      <th>8</th>\n",
       "      <td>Everherb (By Pharmeasy) Pain Relief Oil - Blen...</td>\n",
       "      <td>EVERHERB</td>\n",
       "      <td>399.00</td>\n",
       "      <td>Guaranteed Delivery</td>\n",
       "      <td>191.52</td>\n",
       "      <td>52</td>\n",
       "    </tr>\n",
       "    <tr>\n",
       "      <th>9</th>\n",
       "      <td>Everherb (By Pharmeasy) Ashwagandha-Immunity B...</td>\n",
       "      <td>EVERHERB</td>\n",
       "      <td>599.00</td>\n",
       "      <td>Guaranteed Delivery</td>\n",
       "      <td>299.50</td>\n",
       "      <td>50</td>\n",
       "    </tr>\n",
       "    <tr>\n",
       "      <th>10</th>\n",
       "      <td>Everherb Giloy Tulsi Juice - Strengthens Body ...</td>\n",
       "      <td>EVERHERB</td>\n",
       "      <td>399.00</td>\n",
       "      <td>Guaranteed Delivery</td>\n",
       "      <td>195.51</td>\n",
       "      <td>51</td>\n",
       "    </tr>\n",
       "    <tr>\n",
       "      <th>11</th>\n",
       "      <td>Everherb (By Pharmeasy) Flaxseed Omega 3 - Ess...</td>\n",
       "      <td>EVERHERB</td>\n",
       "      <td>799.00</td>\n",
       "      <td>Guaranteed Delivery</td>\n",
       "      <td>383.52</td>\n",
       "      <td>52</td>\n",
       "    </tr>\n",
       "    <tr>\n",
       "      <th>12</th>\n",
       "      <td>Pharmeasy Multivitamin Multimineral - Immunity...</td>\n",
       "      <td>PHARMEASY</td>\n",
       "      <td>699.00</td>\n",
       "      <td>Guaranteed Delivery</td>\n",
       "      <td>384.45</td>\n",
       "      <td>45</td>\n",
       "    </tr>\n",
       "    <tr>\n",
       "      <th>13</th>\n",
       "      <td>Liveasy Foods Healthy Roasted Seed Mix - Blend...</td>\n",
       "      <td>LIVEASY</td>\n",
       "      <td>399.00</td>\n",
       "      <td>Guaranteed Delivery</td>\n",
       "      <td>215.46</td>\n",
       "      <td>46</td>\n",
       "    </tr>\n",
       "    <tr>\n",
       "      <th>14</th>\n",
       "      <td>Liveasy Foods Healthy Seed Mix - Blend Of 6 Fi...</td>\n",
       "      <td>LIVEASY</td>\n",
       "      <td>349.00</td>\n",
       "      <td>Guaranteed Delivery</td>\n",
       "      <td>188.46</td>\n",
       "      <td>46</td>\n",
       "    </tr>\n",
       "    <tr>\n",
       "      <th>15</th>\n",
       "      <td>Everherb (By Pharmeasy) Shilajit 500mg-Vigour ...</td>\n",
       "      <td>EVERHERB</td>\n",
       "      <td>999.00</td>\n",
       "      <td>Guaranteed Delivery</td>\n",
       "      <td>499.50</td>\n",
       "      <td>50</td>\n",
       "    </tr>\n",
       "    <tr>\n",
       "      <th>16</th>\n",
       "      <td>Liveasy Wellness Diabetic Protein - Blood Suga...</td>\n",
       "      <td>LIVEASY</td>\n",
       "      <td>999.00</td>\n",
       "      <td>Guaranteed Delivery</td>\n",
       "      <td>519.48</td>\n",
       "      <td>48</td>\n",
       "    </tr>\n",
       "    <tr>\n",
       "      <th>17</th>\n",
       "      <td>Liveasy Ortho Care Cool Eye Mask - Provides Re...</td>\n",
       "      <td>LIVEASY</td>\n",
       "      <td>120.00</td>\n",
       "      <td>Guaranteed Delivery</td>\n",
       "      <td>102.00</td>\n",
       "      <td>15</td>\n",
       "    </tr>\n",
       "    <tr>\n",
       "      <th>18</th>\n",
       "      <td>Pharmeasy Hot Water Bag - Relieves Pain - Rela...</td>\n",
       "      <td>PHARMEASY</td>\n",
       "      <td>349.00</td>\n",
       "      <td>Guaranteed Delivery</td>\n",
       "      <td>226.85</td>\n",
       "      <td>35</td>\n",
       "    </tr>\n",
       "    <tr>\n",
       "      <th>19</th>\n",
       "      <td>Everherb Pharmeasy Moringa (Drum Stick) Immuni...</td>\n",
       "      <td>EVERHERB</td>\n",
       "      <td>599.00</td>\n",
       "      <td>Guaranteed Delivery</td>\n",
       "      <td>269.55</td>\n",
       "      <td>55</td>\n",
       "    </tr>\n",
       "  </tbody>\n",
       "</table>\n",
       "</div>"
      ],
      "text/plain": [
       "                                                 name manufacturer mrpDecimal  \\\n",
       "0   Everherb Karela Jamun Juice - Helps Maintains ...     EVERHERB     399.00   \n",
       "1   Everherb Diabetic Care Juice-13 Potent Herbs -...     EVERHERB     599.00   \n",
       "2   Everherb (By Pharmeasy) Aloe Vera Juice With P...     EVERHERB     399.00   \n",
       "3                        Pharmeasy Pill Box Organizer    PHARMEASY     499.00   \n",
       "4   Liveasy Wellness Calcium Magnesium Vitamin D3 ...      LIVEASY     599.00   \n",
       "5   Everherb (By Pharmeasy) Amla Juice-Rich In Vit...     EVERHERB     399.00   \n",
       "6   Pharmeasy Calcium Magnesium Vitamin D3 & Zinc ...    PHARMEASY     499.00   \n",
       "7   Liveasy Wellness Multivitamin Multimineral - I...      LIVEASY     699.00   \n",
       "8   Everherb (By Pharmeasy) Pain Relief Oil - Blen...     EVERHERB     399.00   \n",
       "9   Everherb (By Pharmeasy) Ashwagandha-Immunity B...     EVERHERB     599.00   \n",
       "10  Everherb Giloy Tulsi Juice - Strengthens Body ...     EVERHERB     399.00   \n",
       "11  Everherb (By Pharmeasy) Flaxseed Omega 3 - Ess...     EVERHERB     799.00   \n",
       "12  Pharmeasy Multivitamin Multimineral - Immunity...    PHARMEASY     699.00   \n",
       "13  Liveasy Foods Healthy Roasted Seed Mix - Blend...      LIVEASY     399.00   \n",
       "14  Liveasy Foods Healthy Seed Mix - Blend Of 6 Fi...      LIVEASY     349.00   \n",
       "15  Everherb (By Pharmeasy) Shilajit 500mg-Vigour ...     EVERHERB     999.00   \n",
       "16  Liveasy Wellness Diabetic Protein - Blood Suga...      LIVEASY     999.00   \n",
       "17  Liveasy Ortho Care Cool Eye Mask - Provides Re...      LIVEASY     120.00   \n",
       "18  Pharmeasy Hot Water Bag - Relieves Pain - Rela...    PHARMEASY     349.00   \n",
       "19  Everherb Pharmeasy Moringa (Drum Stick) Immuni...     EVERHERB     599.00   \n",
       "\n",
       "   productTierAttributes salePriceDecimal discountPercent  \n",
       "0    Guaranteed Delivery           199.50              50  \n",
       "1    Guaranteed Delivery           299.50              50  \n",
       "2    Guaranteed Delivery           191.52              52  \n",
       "3    Guaranteed Delivery           249.50              50  \n",
       "4    Guaranteed Delivery           449.25              25  \n",
       "5    Guaranteed Delivery           195.51              51  \n",
       "6    Guaranteed Delivery           399.20              20  \n",
       "7    Guaranteed Delivery           384.45              45  \n",
       "8    Guaranteed Delivery           191.52              52  \n",
       "9    Guaranteed Delivery           299.50              50  \n",
       "10   Guaranteed Delivery           195.51              51  \n",
       "11   Guaranteed Delivery           383.52              52  \n",
       "12   Guaranteed Delivery           384.45              45  \n",
       "13   Guaranteed Delivery           215.46              46  \n",
       "14   Guaranteed Delivery           188.46              46  \n",
       "15   Guaranteed Delivery           499.50              50  \n",
       "16   Guaranteed Delivery           519.48              48  \n",
       "17   Guaranteed Delivery           102.00              15  \n",
       "18   Guaranteed Delivery           226.85              35  \n",
       "19   Guaranteed Delivery           269.55              55  "
      ]
     },
     "execution_count": 11,
     "metadata": {},
     "output_type": "execute_result"
    }
   ],
   "source": [
    "df = pd.DataFrame(data)\n",
    "df"
   ]
  },
  {
   "cell_type": "markdown",
   "id": "9f54a5ca-2a0d-4ab2-a883-1b281915b697",
   "metadata": {},
   "source": [
    "For all the pages"
   ]
  },
  {
   "cell_type": "code",
   "execution_count": 15,
   "id": "19cce8d2-314a-477e-a35e-cd5d9d9983dd",
   "metadata": {
    "tags": []
   },
   "outputs": [
    {
     "name": "stdout",
     "output_type": "stream",
     "text": [
      "Page no. 1 is done.\n",
      "Page no. 2 is done.\n",
      "Page no. 3 is done.\n",
      "Page no. 4 is done.\n",
      "Page no. 5 is done.\n",
      "Page no. 6 is done.\n",
      "Page no. 7 is done.\n",
      "Page no. 8 is done.\n",
      "Page no. 9 is done.\n",
      "Page no. 10 is done.\n",
      "Page no. 11 is done.\n",
      "Page no. 12 is done.\n",
      "Page no. 13 is done.\n",
      "Page no. 14 is done.\n"
     ]
    }
   ],
   "source": [
    "data = [] # for appending the dataset\n",
    "\n",
    "# Retriving the data from page 1 to till 15 using get method\n",
    "for page in range(1, 15):\n",
    "  url = f'https://pharmeasy.in/api/otc/getCategoryProducts?categoryId=9297&page={page}'\n",
    "  response = requests.get(url)\n",
    "\n",
    "  # Converting the data into JSON format\n",
    "  data_json = response.json()\n",
    "\n",
    "  # Printing the status of each page that has sucessfully done\n",
    "  print(f'Page no. {page} is done.')\n",
    "\n",
    "  # Keeping all the data into all_products variable\n",
    "  all_products = data_json['data']['products']\n",
    "\n",
    "  # Doing error handling for the items which are not available\n",
    "  for item, product in enumerate(all_products):\n",
    "    try:\n",
    "      productLevel = product['labelDetails']['name']\n",
    "    except:\n",
    "      productLevel = 'Not available'\n",
    "    try:\n",
    "      ratingScore = product['ratingDetails']['value']\n",
    "    except:\n",
    "      ratingScore = 'Not available'\n",
    "    try:\n",
    "      ratingCount = product['ratingDetails']['count']\n",
    "    except:\n",
    "      ratingCount = 'Not available'\n",
    "\n",
    "    # Selecting the required row/data from the entire dataset\n",
    "    d = {\n",
    "        'Product Name': product['name'],\n",
    "        'Manufacturer': product['manufacturer'],\n",
    "        'MRP': product['mrpDecimal'],\n",
    "        'Sales Price': product['salePriceDecimal'],\n",
    "        'Product Level': productLevel,\n",
    "        'Rating Score': ratingScore,\n",
    "        'Rating Count': ratingCount,\n",
    "        'productTierAttributes' : product['productTierAttributes']['text']\n",
    "    }\n",
    "\n",
    "    # Appending the retrived data in the empty list\n",
    "    data.append(d)"
   ]
  },
  {
   "cell_type": "code",
   "execution_count": 16,
   "id": "21d60c8b-e29a-4a50-993f-8d06fc6a2842",
   "metadata": {
    "tags": []
   },
   "outputs": [
    {
     "data": {
      "text/plain": [
       "262"
      ]
     },
     "execution_count": 16,
     "metadata": {},
     "output_type": "execute_result"
    }
   ],
   "source": [
    "len(data)"
   ]
  },
  {
   "cell_type": "code",
   "execution_count": 17,
   "id": "82fe5550-df06-423f-978d-9cdab34a2b77",
   "metadata": {
    "tags": []
   },
   "outputs": [
    {
     "data": {
      "text/html": [
       "<div>\n",
       "<style scoped>\n",
       "    .dataframe tbody tr th:only-of-type {\n",
       "        vertical-align: middle;\n",
       "    }\n",
       "\n",
       "    .dataframe tbody tr th {\n",
       "        vertical-align: top;\n",
       "    }\n",
       "\n",
       "    .dataframe thead th {\n",
       "        text-align: right;\n",
       "    }\n",
       "</style>\n",
       "<table border=\"1\" class=\"dataframe\">\n",
       "  <thead>\n",
       "    <tr style=\"text-align: right;\">\n",
       "      <th></th>\n",
       "      <th>Product Name</th>\n",
       "      <th>Manufacturer</th>\n",
       "      <th>MRP</th>\n",
       "      <th>Sales Price</th>\n",
       "      <th>Product Level</th>\n",
       "      <th>Rating Score</th>\n",
       "      <th>Rating Count</th>\n",
       "      <th>productTierAttributes</th>\n",
       "    </tr>\n",
       "  </thead>\n",
       "  <tbody>\n",
       "    <tr>\n",
       "      <th>0</th>\n",
       "      <td>Everherb Karela Jamun Juice - Helps Maintains ...</td>\n",
       "      <td>EVERHERB</td>\n",
       "      <td>399.00</td>\n",
       "      <td>199.50</td>\n",
       "      <td>BEST SELLER</td>\n",
       "      <td>4.125544</td>\n",
       "      <td>1378</td>\n",
       "      <td>Guaranteed Delivery</td>\n",
       "    </tr>\n",
       "    <tr>\n",
       "      <th>1</th>\n",
       "      <td>Everherb Diabetic Care Juice-13 Potent Herbs -...</td>\n",
       "      <td>EVERHERB</td>\n",
       "      <td>599.00</td>\n",
       "      <td>299.50</td>\n",
       "      <td>RECOMMENDED</td>\n",
       "      <td>4.133489</td>\n",
       "      <td>854</td>\n",
       "      <td>Guaranteed Delivery</td>\n",
       "    </tr>\n",
       "    <tr>\n",
       "      <th>2</th>\n",
       "      <td>Everherb (By Pharmeasy) Aloe Vera Juice With P...</td>\n",
       "      <td>EVERHERB</td>\n",
       "      <td>399.00</td>\n",
       "      <td>191.52</td>\n",
       "      <td>ON SALE</td>\n",
       "      <td>4.022117</td>\n",
       "      <td>633</td>\n",
       "      <td>Guaranteed Delivery</td>\n",
       "    </tr>\n",
       "    <tr>\n",
       "      <th>3</th>\n",
       "      <td>Pharmeasy Pill Box Organizer</td>\n",
       "      <td>PHARMEASY</td>\n",
       "      <td>499.00</td>\n",
       "      <td>249.50</td>\n",
       "      <td>BEST SELLER</td>\n",
       "      <td>3.311859</td>\n",
       "      <td>683</td>\n",
       "      <td>Guaranteed Delivery</td>\n",
       "    </tr>\n",
       "    <tr>\n",
       "      <th>4</th>\n",
       "      <td>Liveasy Wellness Calcium Magnesium Vitamin D3 ...</td>\n",
       "      <td>LIVEASY</td>\n",
       "      <td>599.00</td>\n",
       "      <td>449.25</td>\n",
       "      <td>BEST SELLER</td>\n",
       "      <td>4.189076</td>\n",
       "      <td>476</td>\n",
       "      <td>Guaranteed Delivery</td>\n",
       "    </tr>\n",
       "    <tr>\n",
       "      <th>...</th>\n",
       "      <td>...</td>\n",
       "      <td>...</td>\n",
       "      <td>...</td>\n",
       "      <td>...</td>\n",
       "      <td>...</td>\n",
       "      <td>...</td>\n",
       "      <td>...</td>\n",
       "      <td>...</td>\n",
       "    </tr>\n",
       "    <tr>\n",
       "      <th>257</th>\n",
       "      <td>Liveasy Essentials Diabetic &amp; Orthopedic Slipp...</td>\n",
       "      <td>LIVEASY</td>\n",
       "      <td>999.00</td>\n",
       "      <td>539.46</td>\n",
       "      <td>Not available</td>\n",
       "      <td>Not available</td>\n",
       "      <td>Not available</td>\n",
       "      <td>Out of Stock</td>\n",
       "    </tr>\n",
       "    <tr>\n",
       "      <th>258</th>\n",
       "      <td>Liveasy Essentials Therapeutic Socks - Diabeti...</td>\n",
       "      <td>LIVEASY</td>\n",
       "      <td>299.00</td>\n",
       "      <td>149.50</td>\n",
       "      <td>Not available</td>\n",
       "      <td>4.083333</td>\n",
       "      <td>12</td>\n",
       "      <td>Out of Stock</td>\n",
       "    </tr>\n",
       "    <tr>\n",
       "      <th>259</th>\n",
       "      <td>Liveasy Ortho Care Clavicle Brace-Large</td>\n",
       "      <td>LIVEASY</td>\n",
       "      <td>541.50</td>\n",
       "      <td>460.27</td>\n",
       "      <td>Not available</td>\n",
       "      <td>1</td>\n",
       "      <td>1</td>\n",
       "      <td>Out of Stock</td>\n",
       "    </tr>\n",
       "    <tr>\n",
       "      <th>260</th>\n",
       "      <td>Liveasy Essentials Diabetic &amp; Orthopedic Slipp...</td>\n",
       "      <td>LIVEASY</td>\n",
       "      <td>999.00</td>\n",
       "      <td>539.46</td>\n",
       "      <td>Not available</td>\n",
       "      <td>Not available</td>\n",
       "      <td>Not available</td>\n",
       "      <td>Out of Stock</td>\n",
       "    </tr>\n",
       "    <tr>\n",
       "      <th>261</th>\n",
       "      <td>Liveasy Ortho Care Open Patella Knee Cap Medium</td>\n",
       "      <td>LIVEASY</td>\n",
       "      <td>399.00</td>\n",
       "      <td>339.15</td>\n",
       "      <td>Not available</td>\n",
       "      <td>Not available</td>\n",
       "      <td>Not available</td>\n",
       "      <td>Out of Stock</td>\n",
       "    </tr>\n",
       "  </tbody>\n",
       "</table>\n",
       "<p>262 rows × 8 columns</p>\n",
       "</div>"
      ],
      "text/plain": [
       "                                          Product Name Manufacturer     MRP  \\\n",
       "0    Everherb Karela Jamun Juice - Helps Maintains ...     EVERHERB  399.00   \n",
       "1    Everherb Diabetic Care Juice-13 Potent Herbs -...     EVERHERB  599.00   \n",
       "2    Everherb (By Pharmeasy) Aloe Vera Juice With P...     EVERHERB  399.00   \n",
       "3                         Pharmeasy Pill Box Organizer    PHARMEASY  499.00   \n",
       "4    Liveasy Wellness Calcium Magnesium Vitamin D3 ...      LIVEASY  599.00   \n",
       "..                                                 ...          ...     ...   \n",
       "257  Liveasy Essentials Diabetic & Orthopedic Slipp...      LIVEASY  999.00   \n",
       "258  Liveasy Essentials Therapeutic Socks - Diabeti...      LIVEASY  299.00   \n",
       "259            Liveasy Ortho Care Clavicle Brace-Large      LIVEASY  541.50   \n",
       "260  Liveasy Essentials Diabetic & Orthopedic Slipp...      LIVEASY  999.00   \n",
       "261    Liveasy Ortho Care Open Patella Knee Cap Medium      LIVEASY  399.00   \n",
       "\n",
       "    Sales Price  Product Level   Rating Score   Rating Count  \\\n",
       "0        199.50    BEST SELLER       4.125544           1378   \n",
       "1        299.50    RECOMMENDED       4.133489            854   \n",
       "2        191.52        ON SALE       4.022117            633   \n",
       "3        249.50    BEST SELLER       3.311859            683   \n",
       "4        449.25    BEST SELLER       4.189076            476   \n",
       "..          ...            ...            ...            ...   \n",
       "257      539.46  Not available  Not available  Not available   \n",
       "258      149.50  Not available       4.083333             12   \n",
       "259      460.27  Not available              1              1   \n",
       "260      539.46  Not available  Not available  Not available   \n",
       "261      339.15  Not available  Not available  Not available   \n",
       "\n",
       "    productTierAttributes  \n",
       "0     Guaranteed Delivery  \n",
       "1     Guaranteed Delivery  \n",
       "2     Guaranteed Delivery  \n",
       "3     Guaranteed Delivery  \n",
       "4     Guaranteed Delivery  \n",
       "..                    ...  \n",
       "257          Out of Stock  \n",
       "258          Out of Stock  \n",
       "259          Out of Stock  \n",
       "260          Out of Stock  \n",
       "261          Out of Stock  \n",
       "\n",
       "[262 rows x 8 columns]"
      ]
     },
     "execution_count": 17,
     "metadata": {},
     "output_type": "execute_result"
    }
   ],
   "source": [
    "df=pd.DataFrame(data)\n",
    "df"
   ]
  },
  {
   "cell_type": "markdown",
   "id": "7cdf4733-257f-45c6-95f1-044e97705da6",
   "metadata": {},
   "source": [
    "Exporting the dataset into a CSV file"
   ]
  },
  {
   "cell_type": "code",
   "execution_count": 23,
   "id": "d9d1a15f-66fa-446d-b20b-116e95c4d5bd",
   "metadata": {
    "tags": []
   },
   "outputs": [],
   "source": [
    "df.to_csv('pharmeasy_TopProducts.csv',index=False)"
   ]
  }
 ],
 "metadata": {
  "kernelspec": {
   "display_name": "Python 3 (ipykernel)",
   "language": "python",
   "name": "python3"
  },
  "language_info": {
   "codemirror_mode": {
    "name": "ipython",
    "version": 3
   },
   "file_extension": ".py",
   "mimetype": "text/x-python",
   "name": "python",
   "nbconvert_exporter": "python",
   "pygments_lexer": "ipython3",
   "version": "3.11.3"
  }
 },
 "nbformat": 4,
 "nbformat_minor": 5
}
